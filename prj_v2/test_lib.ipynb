{
 "cells": [
  {
   "cell_type": "code",
   "execution_count": null,
   "metadata": {},
   "outputs": [],
   "source": [
    "M, N = 100, 200"
   ]
  },
  {
   "cell_type": "code",
   "execution_count": 4,
   "metadata": {},
   "outputs": [],
   "source": [
    "extent = {}\n",
    "extent[False] = {\n",
    "    \"img\": None, \n",
    "    \"amp\": None,\n",
    "    \"ang\": None,\n",
    "}\n",
    "extent[True]  = {\n",
    "    \"img\": None, \n",
    "    \"amp\": None,\n",
    "    \"ang\": None,\n",
    "}"
   ]
  },
  {
   "cell_type": "code",
   "execution_count": null,
   "metadata": {},
   "outputs": [],
   "source": [
    "xticks = {}\n",
    "xticks[False] = {\n",
    "    \"img\": None, \n",
    "    \"amp\": None,\n",
    "    \"ang\": None\n",
    "}\n",
    "xticks[True]  = {\n",
    "    \"img\": None, \n",
    "    \"amp\": None,\n",
    "    \"ang\": None,\n",
    "}"
   ]
  },
  {
   "cell_type": "code",
   "execution_count": 5,
   "metadata": {},
   "outputs": [],
   "source": [
    "yticks = {}\n",
    "yticks[False] = {\n",
    "    \"img\": None, \n",
    "    \"amp\": None,\n",
    "    \"ang\": None\n",
    "}\n",
    "yticks[True]  = {\n",
    "    \"img\": None, \n",
    "    \"amp\": None,\n",
    "    \"ang\": None,\n",
    "}"
   ]
  },
  {
   "cell_type": "code",
   "execution_count": null,
   "metadata": {},
   "outputs": [],
   "source": [
    "xtickslabels = {}\n",
    "xtickslabels[False] = {\n",
    "    \"img\": None, \n",
    "    \"amp\": None,\n",
    "    \"ang\": None,\n",
    "}\n",
    "xtickslabels[True]  = { \n",
    "    \"img\": None, \n",
    "    \"amp\": None,\n",
    "    \"ang\": None,\n",
    "}"
   ]
  },
  {
   "cell_type": "code",
   "execution_count": null,
   "metadata": {},
   "outputs": [],
   "source": [
    "ytickslabels = {}\n",
    "ytickslabels[False] = {\n",
    "    \"img\": None, \n",
    "    \"amp\": None,\n",
    "    \"ang\": None,\n",
    "}\n",
    "ytickslabels[True]  = {\n",
    "    \"img\": None, \n",
    "    \"amp\": None,\n",
    "    \"ang\": None,\n",
    "}"
   ]
  }
 ],
 "metadata": {
  "kernelspec": {
   "display_name": "Python 3",
   "language": "python",
   "name": "python3"
  },
  "language_info": {
   "codemirror_mode": {
    "name": "ipython",
    "version": 3
   },
   "file_extension": ".py",
   "mimetype": "text/x-python",
   "name": "python",
   "nbconvert_exporter": "python",
   "pygments_lexer": "ipython3",
   "version": "3.10.11"
  }
 },
 "nbformat": 4,
 "nbformat_minor": 2
}
