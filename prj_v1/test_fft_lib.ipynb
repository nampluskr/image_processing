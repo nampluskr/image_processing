{
 "cells": [
  {
   "cell_type": "code",
   "execution_count": 1,
   "metadata": {},
   "outputs": [],
   "source": [
    "from __future__ import annotations\n",
    "from abc import ABC, abstractmethod\n",
    "import os\n",
    "\n",
    "import numpy as np\n",
    "from numpy import ndarray\n",
    "import matplotlib.pyplot as plt\n",
    "import skimage\n",
    "from scipy.ndimage import uniform_filter, gaussian_filter"
   ]
  },
  {
   "cell_type": "code",
   "execution_count": 5,
   "metadata": {},
   "outputs": [],
   "source": [
    "class Image:\n",
    "    def __init__(self, data: ndarray=None):\n",
    "        self.data = data\n",
    "        self.path = None\n",
    "        self.name = None\n",
    "\n",
    "    def imread(self, path: str) -> Image:\n",
    "        self.data = Image(skimage.io.imread(path))\n",
    "        self.path = path\n",
    "        self.name = os.path.basename(path)\n",
    "        return self\n",
    "\n",
    "## Interface\n",
    "class ImageProcessor(ABC):\n",
    "    @abstractmethod\n",
    "    def execute(self, img: Image) -> Image:\n",
    "        pass\n",
    "    \n",
    "    @abstractmethod\n",
    "    def __call__(self, img: Image) -> Image:\n",
    "        pass\n",
    "\n",
    "## Interface\n",
    "class ImageViewer(ABC):\n",
    "    @abstractmethod\n",
    "    def show(self, img: Image) -> None:\n",
    "        pass"
   ]
  },
  {
   "cell_type": "code",
   "execution_count": null,
   "metadata": {},
   "outputs": [],
   "source": []
  },
  {
   "cell_type": "code",
   "execution_count": 4,
   "metadata": {},
   "outputs": [
    {
     "data": {
      "text/plain": [
       "(512, 512, 3)"
      ]
     },
     "execution_count": 4,
     "metadata": {},
     "output_type": "execute_result"
    }
   ],
   "source": [
    "img = Image(skimage.data.astronaut())\n",
    "img.data.shape"
   ]
  }
 ],
 "metadata": {
  "kernelspec": {
   "display_name": "Python 3",
   "language": "python",
   "name": "python3"
  },
  "language_info": {
   "codemirror_mode": {
    "name": "ipython",
    "version": 3
   },
   "file_extension": ".py",
   "mimetype": "text/x-python",
   "name": "python",
   "nbconvert_exporter": "python",
   "pygments_lexer": "ipython3",
   "version": "3.10.11"
  }
 },
 "nbformat": 4,
 "nbformat_minor": 2
}
